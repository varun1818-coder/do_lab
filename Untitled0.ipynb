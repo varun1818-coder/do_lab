{
  "nbformat": 4,
  "nbformat_minor": 0,
  "metadata": {
    "colab": {
      "provenance": [],
      "mount_file_id": "1DDBXJF6meptTljvAeKdBAOiiD3VsZ6ZP",
      "authorship_tag": "ABX9TyNbgbR5Z0ciILhxBb3YsUOg",
      "include_colab_link": true
    },
    "kernelspec": {
      "name": "python3",
      "display_name": "Python 3"
    },
    "language_info": {
      "name": "python"
    }
  },
  "cells": [
    {
      "cell_type": "markdown",
      "metadata": {
        "id": "view-in-github",
        "colab_type": "text"
      },
      "source": [
        "<a href=\"https://colab.research.google.com/github/varun1818-coder/do_lab/blob/main/Untitled0.ipynb\" target=\"_parent\"><img src=\"https://colab.research.google.com/assets/colab-badge.svg\" alt=\"Open In Colab\"/></a>"
      ]
    },
    {
      "cell_type": "code",
      "execution_count": 2,
      "metadata": {
        "id": "I2H9yXxdCrX4"
      },
      "outputs": [],
      "source": [
        "# import necessary libraries\n",
        "import pandas as pd\n"
      ]
    },
    {
      "cell_type": "code",
      "source": [
        "from google.colab import drive\n",
        "drive.mount('/content/drive')"
      ],
      "metadata": {
        "colab": {
          "base_uri": "https://localhost:8080/"
        },
        "id": "BWthUyxXFsIh",
        "outputId": "58fe1685-fee8-4bec-f813-134def526481"
      },
      "execution_count": 5,
      "outputs": [
        {
          "output_type": "stream",
          "name": "stdout",
          "text": [
            "Drive already mounted at /content/drive; to attempt to forcibly remount, call drive.mount(\"/content/drive\", force_remount=True).\n"
          ]
        }
      ]
    },
    {
      "cell_type": "code",
      "source": [],
      "metadata": {
        "id": "QLGfPfkDJRSh"
      },
      "execution_count": null,
      "outputs": []
    },
    {
      "cell_type": "code",
      "source": [],
      "metadata": {
        "id": "EDTxFcipHOXy"
      },
      "execution_count": null,
      "outputs": []
    },
    {
      "cell_type": "code",
      "source": [
        "import pandas as pd\n",
        "# Assuming you want to read the excel file into a pandas DataFrame\n",
        "# Replace 'df' with your desired variable name\n",
        "df = pd.read_excel('/content/drive/MyDrive/Copy of Copy of Even.xlsx')"
      ],
      "metadata": {
        "id": "K_fpcs1NGP3J"
      },
      "execution_count": 7,
      "outputs": []
    },
    {
      "cell_type": "code",
      "source": [
        "print(df)"
      ],
      "metadata": {
        "colab": {
          "base_uri": "https://localhost:8080/"
        },
        "id": "KWdJ4r14HP5g",
        "outputId": "b3b5e6e7-1ae3-4706-cf6d-da3155f905b3"
      },
      "execution_count": 8,
      "outputs": [
        {
          "output_type": "stream",
          "name": "stdout",
          "text": [
            "   Unnamed: 0   Write python programs to answer these questions.\n",
            "0         NaN                                                NaN\n",
            "1         1.0  How many unique job roles are present in the d...\n",
            "2         2.0  Are there any duplicate employee entries based...\n",
            "3         3.0  Some rows have negative salaries (-5000). Are ...\n",
            "4         4.0  The Phone_Number column has inconsistent forma...\n",
            "5         5.0  Compute an \"Hourly Wage\" column from Salary_pe...\n"
          ]
        }
      ]
    },
    {
      "cell_type": "code",
      "source": [],
      "metadata": {
        "id": "a38hmyL1HZAp"
      },
      "execution_count": null,
      "outputs": []
    }
  ]
}