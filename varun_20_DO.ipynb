{
  "nbformat": 4,
  "nbformat_minor": 0,
  "metadata": {
    "colab": {
      "provenance": [],
      "mount_file_id": "1uXCCfPV4SSjzQMx24W9-lOIbu_S93IxT",
      "authorship_tag": "ABX9TyMtIYn2Q0oC0LmxTP5SvWzv",
      "include_colab_link": true
    },
    "kernelspec": {
      "name": "python3",
      "display_name": "Python 3"
    },
    "language_info": {
      "name": "python"
    }
  },
  "cells": [
    {
      "cell_type": "markdown",
      "metadata": {
        "id": "view-in-github",
        "colab_type": "text"
      },
      "source": [
        "<a href=\"https://colab.research.google.com/github/varun1818-coder/do_lab/blob/main/varun_20_DO.ipynb\" target=\"_parent\"><img src=\"https://colab.research.google.com/assets/colab-badge.svg\" alt=\"Open In Colab\"/></a>"
      ]
    },
    {
      "cell_type": "code",
      "source": [
        "from google.colab import drive\n",
        "import pandas as pd\n",
        "drive.mount('/content/drive/')\n",
        "df=pd.read_excel('/content/drive/MyDrive/Copy of Even (1).xlsx',sheet_name=1)\n",
        "print(df.head())"
      ],
      "metadata": {
        "colab": {
          "base_uri": "https://localhost:8080/"
        },
        "id": "2AvUm_NUx1DY",
        "outputId": "94b17588-c137-47ae-ceb7-757fa1bc7c86"
      },
      "execution_count": 2,
      "outputs": [
        {
          "output_type": "stream",
          "name": "stdout",
          "text": [
            "Drive already mounted at /content/drive/; to attempt to forcibly remount, call drive.mount(\"/content/drive/\", force_remount=True).\n",
            "    Employee_Name  Employee_ID   Job_Role  Phone_Number  \\\n",
            "0     Jane Miller         8797  Developer  3.801881e+09   \n",
            "1   Michael Brown         6540    Manager  7.904752e+09   \n",
            "2  Sarah Anderson         2353  Developer  9.463822e+09   \n",
            "3   Chris Johnson         6392   Engineer  8.727628e+09   \n",
            "4     Laura Smith         1653    Analyst  7.750284e+08   \n",
            "\n",
            "                   Email_ID  Total_Work_Hour_per_Month  Salary_per_Month  \n",
            "0  emily.taylor@example.com                     9999.0               NaN  \n",
            "1       john.brown@test.net                      160.0           11200.0  \n",
            "2   sarah.wilson@sample.org                     9999.0           -5000.0  \n",
            "3     john.jones@sample.org                      160.0            8000.0  \n",
            "4     sarah.taylor@test.net                     9999.0               NaN  \n"
          ]
        }
      ]
    },
    {
      "cell_type": "code",
      "source": [
        "print(df)"
      ],
      "metadata": {
        "colab": {
          "base_uri": "https://localhost:8080/"
        },
        "id": "MOnzcfvvy2In",
        "outputId": "1d1d2bed-a0dd-40d7-f93c-808bceade14d"
      },
      "execution_count": 3,
      "outputs": [
        {
          "output_type": "stream",
          "name": "stdout",
          "text": [
            "     Employee_Name  Employee_ID   Job_Role  Phone_Number  \\\n",
            "0      Jane Miller         8797  Developer  3.801881e+09   \n",
            "1    Michael Brown         6540    Manager  7.904752e+09   \n",
            "2   Sarah Anderson         2353  Developer  9.463822e+09   \n",
            "3    Chris Johnson         6392   Engineer  8.727628e+09   \n",
            "4      Laura Smith         1653    Analyst  7.750284e+08   \n",
            "..             ...          ...        ...           ...   \n",
            "95     Emily Smith         5111        NaN  4.463884e+09   \n",
            "96    Sarah Wilson         7388   Engineer  7.455009e+09   \n",
            "97             NaN         3773    Manager  4.515526e+08   \n",
            "98     Sarah Smith         1442    Analyst  3.294945e+09   \n",
            "99   Michael Jones         3490    Analyst  9.425622e+09   \n",
            "\n",
            "                        Email_ID  Total_Work_Hour_per_Month  Salary_per_Month  \n",
            "0       emily.taylor@example.com                     9999.0               NaN  \n",
            "1            john.brown@test.net                      160.0           11200.0  \n",
            "2        sarah.wilson@sample.org                     9999.0           -5000.0  \n",
            "3          john.jones@sample.org                      160.0            8000.0  \n",
            "4          sarah.taylor@test.net                     9999.0               NaN  \n",
            "..                           ...                        ...               ...  \n",
            "95          james.davis@test.net                      -10.0          100000.0  \n",
            "96      john.johnson@example.com                        NaN          100000.0  \n",
            "97       david.miller@sample.org                        NaN          100000.0  \n",
            "98  jessica.anderson@example.com                      -10.0           -5000.0  \n",
            "99        john.miller@sample.org                        NaN               NaN  \n",
            "\n",
            "[100 rows x 7 columns]\n"
          ]
        }
      ]
    }
  ]
}